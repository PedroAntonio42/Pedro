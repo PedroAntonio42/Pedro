{
  "nbformat": 4,
  "nbformat_minor": 0,
  "metadata": {
    "colab": {
      "provenance": [],
      "authorship_tag": "ABX9TyPeIDfSTvSPFL5yJklqdAWq",
      "include_colab_link": true
    },
    "kernelspec": {
      "name": "python3",
      "display_name": "Python 3"
    },
    "language_info": {
      "name": "python"
    }
  },
  "cells": [
    {
      "cell_type": "markdown",
      "metadata": {
        "id": "view-in-github",
        "colab_type": "text"
      },
      "source": [
        "<a href=\"https://colab.research.google.com/github/PedroAntonio42/Pedro/blob/main/trabalhomaisdetalhado.ipynb\" target=\"_parent\"><img src=\"https://colab.research.google.com/assets/colab-badge.svg\" alt=\"Open In Colab\"/></a>"
      ]
    },
    {
      "cell_type": "code",
      "execution_count": 1,
      "metadata": {
        "colab": {
          "base_uri": "https://localhost:8080/"
        },
        "id": "TOcFbuVDCsOE",
        "outputId": "32d30fac-de4e-4d5b-8b46-4f38b573bf9a"
      },
      "outputs": [
        {
          "output_type": "stream",
          "name": "stdout",
          "text": [
            "Digite o nome do Cliente: Pedro Antonio de Souza\n",
            "Digite o número de telefone do Cliente: 11996307290\n",
            "Digite a marca da bicicleta: Caloi\n",
            "Digite o número de série da bicicleta: 5246-8546\n",
            "Escolha o tipo de serviço:\n",
            "0 - Reparo de Carbono + Retoque\n",
            "1 - Pintura Simples\n",
            "2 - Pintura Complexa\n",
            "3 - Reparo de Carbono + Pintura Simples\n",
            "4 - Reparo de Carbono + Pintura Complexa\n",
            "Digite o código do serviço (0 a 4): 4\n",
            "Como a bicicleta é original: blbalbalbalbal\n",
            "Como será a personalização: ballablabalbalbalbalbalbabl\n",
            "\n",
            "Ordem de Serviço:\n",
            "Cliente: Pedro Antonio de Souza\n",
            "Marca da bicicleta: Caloi\n",
            "Número de série da bicicleta: 5246-8546\n",
            "Serviço solicitado: blbalbalbalbal -> ballablabalbalbalbalbalbabl\n",
            "Valor total do serviço: R$ 2500.00\n"
          ]
        }
      ],
      "source": [
        "# Função para exibir o menu de serviços e garantir que o usuário insira uma opção válida\n",
        "def exibir_menu_servicos():\n",
        "    print(\"Escolha o tipo de serviço:\")\n",
        "    print(\"0 - Reparo de Carbono + Retoque\")\n",
        "    print(\"1 - Pintura Simples\")\n",
        "    print(\"2 - Pintura Complexa\")\n",
        "    print(\"3 - Reparo de Carbono + Pintura Simples\")\n",
        "    print(\"4 - Reparo de Carbono + Pintura Complexa\")\n",
        "\n",
        "    while True:\n",
        "        try:\n",
        "            tipo = int(input(\"Digite o código do serviço (0 a 4): \"))\n",
        "            if tipo in [0, 1, 2, 3, 4]:\n",
        "                return tipo\n",
        "            else:\n",
        "                print(\"Opção inválida, por favor insira um número entre 0 e 4.\")\n",
        "        except ValueError:\n",
        "            print(\"Entrada inválida, por favor insira um número válido.\")\n",
        "\n",
        "# Coleta de dados do cliente\n",
        "Cliente = input(\"Digite o nome do Cliente: \")\n",
        "Numero = input(\"Digite o número de telefone do Cliente: \")\n",
        "Marca = input(\"Digite a marca da bicicleta: \")\n",
        "NumeroBike = input(\"Digite o número de série da bicicleta: \")\n",
        "\n",
        "# Definindo os valores dos serviços\n",
        "ReparoCarb = 500\n",
        "Retoque = 250\n",
        "PinturaSimp = 1000\n",
        "PinturaComplx = 2000\n",
        "\n",
        "# Exibindo menu e capturando o serviço desejado\n",
        "Tipo = exibir_menu_servicos()\n",
        "\n",
        "# Lógica para calcular o valor total com base na escolha do cliente\n",
        "if Tipo == 0:\n",
        "    Soma = ReparoCarb + Retoque\n",
        "elif Tipo == 1:\n",
        "    Soma = PinturaSimp\n",
        "elif Tipo == 2:\n",
        "    Soma = PinturaComplx\n",
        "elif Tipo == 3:\n",
        "    Soma = ReparoCarb + PinturaSimp\n",
        "else:\n",
        "    Soma = ReparoCarb + PinturaComplx\n",
        "\n",
        "# Detalhes da personalização\n",
        "comoera = input(\"Como a bicicleta é original: \")\n",
        "comoficara = input(\"Como será a personalização: \")\n",
        "\n",
        "# Exibindo o resumo da ordem de serviço\n",
        "ServisoTotal = Soma\n",
        "print(f\"\\nOrdem de Serviço:\")\n",
        "print(f\"Cliente: {Cliente}\")\n",
        "print(f\"Marca da bicicleta: {Marca}\")\n",
        "print(f\"Número de série da bicicleta: {NumeroBike}\")\n",
        "print(f\"Serviço solicitado: {comoera} -> {comoficara}\")\n",
        "print(f\"Valor total do serviço: R$ {ServisoTotal:.2f}\")"
      ]
    },
    {
      "cell_type": "code",
      "source": [],
      "metadata": {
        "id": "fy2-SIiOEYHw"
      },
      "execution_count": null,
      "outputs": []
    }
  ]
}