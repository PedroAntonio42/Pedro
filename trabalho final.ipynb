{
  "nbformat": 4,
  "nbformat_minor": 0,
  "metadata": {
    "colab": {
      "provenance": [],
      "authorship_tag": "ABX9TyMU8nkqrBYL4zk3HlehJfkK",
      "include_colab_link": true
    },
    "kernelspec": {
      "name": "python3",
      "display_name": "Python 3"
    },
    "language_info": {
      "name": "python"
    }
  },
  "cells": [
    {
      "cell_type": "markdown",
      "metadata": {
        "id": "view-in-github",
        "colab_type": "text"
      },
      "source": [
        "<a href=\"https://colab.research.google.com/github/PedroAntonio42/Pedro/blob/main/trabalho%20final.ipynb\" target=\"_parent\"><img src=\"https://colab.research.google.com/assets/colab-badge.svg\" alt=\"Open In Colab\"/></a>"
      ]
    },
    {
      "cell_type": "code",
      "execution_count": 1,
      "metadata": {
        "colab": {
          "base_uri": "https://localhost:8080/"
        },
        "id": "MN47iwLgZkUe",
        "outputId": "77d89151-d477-462a-8696-79ea97899c08"
      },
      "outputs": [
        {
          "output_type": "stream",
          "name": "stdout",
          "text": [
            "Digite o nome do cliente:Carlos\n",
            "Digito o serviso q ele quer:Reparo de carbono\n",
            "O serviso a ser feito para o Cliente Carlos em sau bike é no todal de 1500 R$. \n"
          ]
        }
      ],
      "source": [
        "#Dados do cliente\n",
        "Cliente = input(\"Digite o nome do cliente:\")\n",
        "Tipo = input(\"Digito o serviso q ele quer:\")\n",
        "if \"Reparo de carbono\":\n",
        "  serviso = 1500\n",
        "else:\n",
        "  serviso = 2000\n",
        "print(f\"O serviso a ser feito para o Cliente {Cliente} em sau bike é no todal de {serviso} R$. \")"
      ]
    },
    {
      "cell_type": "code",
      "source": [
        "#Dados do cliente\n",
        "Cliente = input(\"Digite o nome do Cliente: \")\n",
        "Numero = input(\"Digite o numero do Cliente \")\n",
        "NumeroBike = input(\"Digite o numero de serie da bicicleta: \")\n",
        "Tipo = input(\"Digito o serviso q ele quer:\")\n",
        "if \"Reparo de carbono\":\n",
        "  serviso = 1500\n",
        "else\n",
        ":\n",
        "  serviso = 2000\n",
        "print(f\"O serviso a ser feito para o Cliente {Cliente} em sau bike é no todal de {serviso} R$. \")\n"
      ],
      "metadata": {
        "colab": {
          "base_uri": "https://localhost:8080/"
        },
        "id": "a1QuxXqsaE-_",
        "outputId": "c2bd3b77-c5c1-48e1-eaf5-456a18ddf821"
      },
      "execution_count": 4,
      "outputs": [
        {
          "output_type": "stream",
          "name": "stdout",
          "text": [
            "Digite o nome do Cliente: l\n",
            "Digite o numero do Cliente l\n",
            "Digite o numero de serie da bicicleta: l\n",
            "Digito o serviso q ele quer:l\n",
            "O serviso a ser feito para o Cliente l em sau bike é no todal de 1500 R$. \n"
          ]
        }
      ]
    }
  ]
}