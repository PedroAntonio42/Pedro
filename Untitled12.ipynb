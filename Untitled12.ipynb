{
  "nbformat": 4,
  "nbformat_minor": 0,
  "metadata": {
    "colab": {
      "provenance": [],
      "authorship_tag": "ABX9TyPnqdvljcI607jmNEZurY2R",
      "include_colab_link": true
    },
    "kernelspec": {
      "name": "python3",
      "display_name": "Python 3"
    },
    "language_info": {
      "name": "python"
    }
  },
  "cells": [
    {
      "cell_type": "markdown",
      "metadata": {
        "id": "view-in-github",
        "colab_type": "text"
      },
      "source": [
        "<a href=\"https://colab.research.google.com/github/PedroAntonio42/Pedro/blob/main/Untitled12.ipynb\" target=\"_parent\"><img src=\"https://colab.research.google.com/assets/colab-badge.svg\" alt=\"Open In Colab\"/></a>"
      ]
    },
    {
      "cell_type": "code",
      "execution_count": 1,
      "metadata": {
        "colab": {
          "base_uri": "https://localhost:8080/"
        },
        "id": "TQOmlQLTjcuD",
        "outputId": "6cb0af17-d2e7-43eb-f9b9-dd3bd8c05973"
      },
      "outputs": [
        {
          "output_type": "stream",
          "name": "stdout",
          "text": [
            "Numero inteiro: 10\n"
          ]
        }
      ],
      "source": [
        "#inteiro\n",
        "numero_interio = 10\n",
        "print(\"Numero inteiro:\", numero_interio)"
      ]
    },
    {
      "cell_type": "code",
      "source": [
        "ponto flutuante\n",
        "string\n",
        "texto = ola,Modu\n",
        "print(\"string:\", texto)\n",
        "booleano\n",
        "valor_booleano = True\n",
        "print(\"valor booleano\", valor_booleano)"
      ],
      "metadata": {
        "id": "mT3spl9RjwUp"
      },
      "execution_count": null,
      "outputs": []
    }
  ]
}