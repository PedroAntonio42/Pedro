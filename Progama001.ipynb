{
  "nbformat": 4,
  "nbformat_minor": 0,
  "metadata": {
    "colab": {
      "provenance": [],
      "authorship_tag": "ABX9TyPCT8vJ5J7JUJhM15YMQQCn",
      "include_colab_link": true
    },
    "kernelspec": {
      "name": "python3",
      "display_name": "Python 3"
    },
    "language_info": {
      "name": "python"
    }
  },
  "cells": [
    {
      "cell_type": "markdown",
      "metadata": {
        "id": "view-in-github",
        "colab_type": "text"
      },
      "source": [
        "<a href=\"https://colab.research.google.com/github/PedroAntonio42/Pedro/blob/main/Progama001.ipynb\" target=\"_parent\"><img src=\"https://colab.research.google.com/assets/colab-badge.svg\" alt=\"Open In Colab\"/></a>"
      ]
    },
    {
      "cell_type": "code",
      "execution_count": null,
      "metadata": {
        "id": "UR9ZIsThYJHG"
      },
      "outputs": [],
      "source": []
    },
    {
      "cell_type": "markdown",
      "source": [
        "#Meu Primeiro Progama na Aula do Massaki#\n"
      ],
      "metadata": {
        "id": "rqu8JSPDedj5"
      }
    },
    {
      "cell_type": "code",
      "source": [
        "#cometario phyton\n",
        "A = 2\n",
        "B = 3\n",
        "soma = A+B\n",
        "print(soma)"
      ],
      "metadata": {
        "colab": {
          "base_uri": "https://localhost:8080/"
        },
        "id": "xX3Zitahevyy",
        "outputId": "ba039e17-cb83-4e6e-df5c-d9722ed970d5"
      },
      "execution_count": 4,
      "outputs": [
        {
          "output_type": "stream",
          "name": "stdout",
          "text": [
            "5\n"
          ]
        }
      ]
    },
    {
      "cell_type": "code",
      "source": [
        "a = 2\n",
        "print(type(a))\n",
        "b = 3\n",
        "print(type(b))\n",
        "soma = a+b\n",
        "print(type(soma))\n",
        "print(soma)"
      ],
      "metadata": {
        "colab": {
          "base_uri": "https://localhost:8080/"
        },
        "id": "ex1TLf6jgBOb",
        "outputId": "5ed8ede6-770a-4fd5-e6fe-02b1f6ba9141"
      },
      "execution_count": 5,
      "outputs": [
        {
          "output_type": "stream",
          "name": "stdout",
          "text": [
            "<class 'int'>\n",
            "<class 'int'>\n",
            "<class 'int'>\n",
            "5\n"
          ]
        }
      ]
    },
    {
      "cell_type": "code",
      "source": [
        "a = 2\n",
        "print(type(a))\n",
        "b = 3.0\n",
        "print(type(b))\n",
        "soma = a+b\n",
        "print(type(soma))\n",
        "print(soma)"
      ],
      "metadata": {
        "colab": {
          "base_uri": "https://localhost:8080/"
        },
        "id": "5Jmkm6a9gpBP",
        "outputId": "c22a8d43-d46f-47be-fdc5-c9f15ae23f7e"
      },
      "execution_count": 7,
      "outputs": [
        {
          "output_type": "stream",
          "name": "stdout",
          "text": [
            "<class 'int'>\n",
            "<class 'float'>\n",
            "<class 'float'>\n",
            "5.0\n"
          ]
        }
      ]
    },
    {
      "cell_type": "code",
      "source": [
        "num = int(input(\"digite um numero\"))\n",
        "print(type(num))\n",
        "quoc = num//2\n",
        "resto = num%2\n",
        "print(\"Quociente\", quoc)\n",
        "print(\"Resto\", resto)\n"
      ],
      "metadata": {
        "colab": {
          "base_uri": "https://localhost:8080/"
        },
        "id": "_Ny0RR2RguVn",
        "outputId": "09cf3273-fa68-4def-f53f-cc9d0416a78a"
      },
      "execution_count": 8,
      "outputs": [
        {
          "output_type": "stream",
          "name": "stdout",
          "text": [
            "digite um numero9\n",
            "<class 'int'>\n",
            "Quociente 4\n",
            "Resto 1\n"
          ]
        }
      ]
    }
  ]
}