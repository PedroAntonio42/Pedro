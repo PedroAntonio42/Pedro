{
  "nbformat": 4,
  "nbformat_minor": 0,
  "metadata": {
    "colab": {
      "provenance": [],
      "authorship_tag": "ABX9TyPTKTal6xaeOzihL/CbtTdX",
      "include_colab_link": true
    },
    "kernelspec": {
      "name": "python3",
      "display_name": "Python 3"
    },
    "language_info": {
      "name": "python"
    }
  },
  "cells": [
    {
      "cell_type": "markdown",
      "metadata": {
        "id": "view-in-github",
        "colab_type": "text"
      },
      "source": [
        "<a href=\"https://colab.research.google.com/github/PedroAntonio42/Pedro/blob/main/Progama001.ipynb\" target=\"_parent\"><img src=\"https://colab.research.google.com/assets/colab-badge.svg\" alt=\"Open In Colab\"/></a>"
      ]
    },
    {
      "cell_type": "code",
      "execution_count": null,
      "metadata": {
        "id": "UR9ZIsThYJHG"
      },
      "outputs": [],
      "source": []
    },
    {
      "cell_type": "markdown",
      "source": [
        "#Meu Primeiro Progama na Aula do Massaki#\n"
      ],
      "metadata": {
        "id": "rqu8JSPDedj5"
      }
    },
    {
      "cell_type": "code",
      "source": [
        "#cometario phyton"
      ],
      "metadata": {
        "id": "xX3Zitahevyy"
      },
      "execution_count": null,
      "outputs": []
    }
  ]
}