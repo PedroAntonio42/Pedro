{
  "nbformat": 4,
  "nbformat_minor": 0,
  "metadata": {
    "colab": {
      "provenance": [],
      "authorship_tag": "ABX9TyNMl9yfly06WwzNOIsDM/lr",
      "include_colab_link": true
    },
    "kernelspec": {
      "name": "python3",
      "display_name": "Python 3"
    },
    "language_info": {
      "name": "python"
    }
  },
  "cells": [
    {
      "cell_type": "markdown",
      "metadata": {
        "id": "view-in-github",
        "colab_type": "text"
      },
      "source": [
        "<a href=\"https://colab.research.google.com/github/PedroAntonio42/Pedro/blob/main/Programa3Trabalho.ipynb\" target=\"_parent\"><img src=\"https://colab.research.google.com/assets/colab-badge.svg\" alt=\"Open In Colab\"/></a>"
      ]
    },
    {
      "cell_type": "code",
      "execution_count": null,
      "metadata": {
        "colab": {
          "base_uri": "https://localhost:8080/"
        },
        "id": "wj0B3aZwalFR",
        "outputId": "9bf9a14d-0968-4a83-b495-a74fa20dd369"
      },
      "outputs": [
        {
          "output_type": "stream",
          "name": "stdout",
          "text": [
            "Digite deu numero:301\n",
            "Seu numero é impar\n"
          ]
        }
      ],
      "source": [
        "num = int(input(\"Digite deu numero:\"))\n",
        "if num % 2 == 0:\n",
        "  print(f\"Seu numero é par\")\n",
        "else:\n",
        "  print(\"Seu numero é impar\")"
      ]
    },
    {
      "cell_type": "code",
      "source": [
        "#raiz quadradada\n",
        "import math\n",
        "#Informe seu numero\n",
        "num = int(input(\"Digite seu numero:\"))\n",
        "if num >= 0:\n",
        "  raiz_quadrada = math.sqrt(num)\n",
        "  print(f\"A raiz quadrada de {num} è {raiz_quadrada: .2f}.\")\n",
        "else:\n",
        "  print(\"Nao existe raiz quadrada pra esse numero.\")"
      ],
      "metadata": {
        "colab": {
          "base_uri": "https://localhost:8080/"
        },
        "id": "5KNh4YO8gkQB",
        "outputId": "a42c8b85-a442-43e7-fd20-b74dc8995c76"
      },
      "execution_count": null,
      "outputs": [
        {
          "output_type": "stream",
          "name": "stdout",
          "text": [
            "Digite seu numero:2\n",
            "A raiz quadrada de 2 è  1.41.\n"
          ]
        }
      ]
    },
    {
      "cell_type": "code",
      "source": [
        "#Tamanhos de camisa\n",
        "Comp = float(input(\"DIgite seu comprimento:\"))\n",
        "Larg = float(input(\"digite sua largura:\"))\n",
        "if Comp <= 66 and Larg <= 50:\n",
        "  Tamanho = \"PP\"\n",
        "elif Comp <= 70 and Larg <= 54:\n",
        "  Tamanho = \"p\"\n",
        "elif Comp <= 72 and Larg <= 56:\n",
        "  Tamanho = \"M\"\n",
        "elif Comp <= 74 and Larg <= 58:\n",
        "  Tamanho = \"G\"\n",
        "elif Comp <= 76 and Larg <= 60:\n",
        "  Tamanho = \"GG\"\n",
        "else:\n",
        "  Tamanho = \"XGG\"\n",
        "print(f\"Seu tamanho de camisa é {Tamanho}.\")"
      ],
      "metadata": {
        "colab": {
          "base_uri": "https://localhost:8080/"
        },
        "id": "OHL6ydpei042",
        "outputId": "c647427f-e41d-42e4-f5c2-5b57441c7731"
      },
      "execution_count": null,
      "outputs": [
        {
          "output_type": "stream",
          "name": "stdout",
          "text": [
            "DIgite seu comprimento:50\n",
            "digite sua largura:50\n",
            "Seu tamanho de camisa é PP.\n"
          ]
        }
      ]
    },
    {
      "cell_type": "markdown",
      "source": [
        "teste do trabalho final"
      ],
      "metadata": {
        "id": "27d3UAO0mAfw"
      }
    },
    {
      "cell_type": "code",
      "source": [
        "#Dados do cliente\n",
        "Cliente = input(\"Digite o nome do cliente:\")\n",
        "Tipo = input(\"Digito o serviso q ele quer:\")\n",
        "if \"Reparo de carbono\":\n",
        "  serviso = 1500\n",
        "else:\n",
        "  serviso = 2000\n",
        "print(f\"O serviso a ser feito para o Cliente {Cliente} em sau bike é no todal de {serviso} R$. \")\n",
        "\n"
      ],
      "metadata": {
        "colab": {
          "base_uri": "https://localhost:8080/"
        },
        "id": "1ziGIISCmByR",
        "outputId": "e2b07b4b-34a6-4fba-8497-2800b18dd285"
      },
      "execution_count": null,
      "outputs": [
        {
          "output_type": "stream",
          "name": "stdout",
          "text": [
            "Digite o nome do cliente:Pedro\n",
            "Digito o serviso q ele quer:Reparo de carbono\n",
            "O serviso a ser feito para o Cliente Pedro em sau bike é no todal de 1500 R$. \n"
          ]
        }
      ]
    }
  ]
}