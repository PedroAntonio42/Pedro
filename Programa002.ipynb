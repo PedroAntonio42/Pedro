{
  "nbformat": 4,
  "nbformat_minor": 0,
  "metadata": {
    "colab": {
      "provenance": [],
      "authorship_tag": "ABX9TyPrTp2mIpOtUEaMLWaEeoXx",
      "include_colab_link": true
    },
    "kernelspec": {
      "name": "python3",
      "display_name": "Python 3"
    },
    "language_info": {
      "name": "python"
    }
  },
  "cells": [
    {
      "cell_type": "markdown",
      "metadata": {
        "id": "view-in-github",
        "colab_type": "text"
      },
      "source": [
        "<a href=\"https://colab.research.google.com/github/PedroAntonio42/Pedro/blob/main/Programa002.ipynb\" target=\"_parent\"><img src=\"https://colab.research.google.com/assets/colab-badge.svg\" alt=\"Open In Colab\"/></a>"
      ]
    },
    {
      "cell_type": "code",
      "execution_count": 2,
      "metadata": {
        "colab": {
          "base_uri": "https://localhost:8080/"
        },
        "id": "5OnwXnimXjVy",
        "outputId": "0d77b92e-a115-4880-f1be-89a7b09b5f61"
      },
      "outputs": [
        {
          "output_type": "stream",
          "name": "stdout",
          "text": [
            "Digite sua Polegada:2\n",
            "Seu MM é: 50.8\n"
          ]
        }
      ],
      "source": [
        "#converter polegada em mm\n",
        "P = float(input(\"Digite sua Polegada:\"))\n",
        "mm = (25.4*P)\n",
        "print(\"Seu MM é:\", mm)"
      ]
    },
    {
      "cell_type": "code",
      "source": [
        "#converter raio para volume\n",
        "from math import pi\n",
        "r = float(input(\"Digite seu Raio:\"))\n",
        "Volume = (4*pi*(r*r*r))/3\n",
        "print(\"Seu volume é:\", Volume)"
      ],
      "metadata": {
        "colab": {
          "base_uri": "https://localhost:8080/"
        },
        "id": "M5GetWgMaBF8",
        "outputId": "e3c78075-6779-416b-bfa7-5b79489e8923"
      },
      "execution_count": 8,
      "outputs": [
        {
          "output_type": "stream",
          "name": "stdout",
          "text": [
            "Digite seu Raio:1\n",
            "Seu volume é: 4.1887902047863905\n"
          ]
        }
      ]
    },
    {
      "cell_type": "code",
      "source": [
        "#Converter Graus em Radianos\n",
        "from math import pi\n",
        "g = float(input(\"Digite seu grau:\"))\n",
        "Radiano = g*pi/180\n",
        "print(\"Seu Radiano é:\", Radiano)"
      ],
      "metadata": {
        "colab": {
          "base_uri": "https://localhost:8080/"
        },
        "id": "EVogCMIWdKm4",
        "outputId": "f168da37-e9c9-4f29-d519-9449c61f23d7"
      },
      "execution_count": 10,
      "outputs": [
        {
          "output_type": "stream",
          "name": "stdout",
          "text": [
            "Digite seu grau:1\n",
            "Seu Radiano é: 0.017453292519943295\n"
          ]
        }
      ]
    },
    {
      "cell_type": "code",
      "source": [
        "#Converter RAdiano em Grau\n",
        "from math import pi\n",
        "r = float(input(\"Digite seu radino:\"))\n",
        "Grau = r/pi*180\n",
        "print(\"Seu angulo é:\", Grau)"
      ],
      "metadata": {
        "colab": {
          "base_uri": "https://localhost:8080/"
        },
        "id": "u1NtXAd3fb57",
        "outputId": "58f409c9-1fdf-4701-93b1-6b324291100b"
      },
      "execution_count": 12,
      "outputs": [
        {
          "output_type": "stream",
          "name": "stdout",
          "text": [
            "Digite seu radino:1\n",
            "Seu angulo é: 57.29577951308232\n"
          ]
        }
      ]
    },
    {
      "cell_type": "code",
      "source": [
        "#converter grau para Radiano em grados\n",
        "from math import pi\n",
        "g = float(input(\"Digite seu angulo:\"))\n",
        "#converter para radiano\n",
        "R = g*pi/180\n",
        "#Convrter am grados\n",
        "Grados = R*200/pi\n",
        "print(\"Seu Grado é:\", Grados)\n"
      ],
      "metadata": {
        "colab": {
          "base_uri": "https://localhost:8080/"
        },
        "id": "bvheB9FshC6Y",
        "outputId": "266e2ace-91d7-47fd-8fd2-aa6b7a167467"
      },
      "execution_count": 16,
      "outputs": [
        {
          "output_type": "stream",
          "name": "stdout",
          "text": [
            "Digite seu angulo:6.28\n",
            "Seu Grado é: 6.977777777777778\n"
          ]
        }
      ]
    }
  ]
}