{
  "nbformat": 4,
  "nbformat_minor": 0,
  "metadata": {
    "colab": {
      "provenance": [],
      "authorship_tag": "ABX9TyP3N9RH2DJFO1S/Z0OeEUMM",
      "include_colab_link": true
    },
    "kernelspec": {
      "name": "python3",
      "display_name": "Python 3"
    },
    "language_info": {
      "name": "python"
    }
  },
  "cells": [
    {
      "cell_type": "markdown",
      "metadata": {
        "id": "view-in-github",
        "colab_type": "text"
      },
      "source": [
        "<a href=\"https://colab.research.google.com/github/PedroAntonio42/Pedro/blob/main/comclusaoTrabalhoFinal2.ipynb\" target=\"_parent\"><img src=\"https://colab.research.google.com/assets/colab-badge.svg\" alt=\"Open In Colab\"/></a>"
      ]
    },
    {
      "cell_type": "code",
      "execution_count": 1,
      "metadata": {
        "colab": {
          "base_uri": "https://localhost:8080/"
        },
        "id": "Jd-9hqS83MkU",
        "outputId": "0e1baacd-f203-4e66-d690-ee03f92df71b"
      },
      "outputs": [
        {
          "output_type": "stream",
          "name": "stdout",
          "text": [
            "Digite o nome do Cliente: Pedro Antonio de Souza\n",
            "Digite o numero do Cliente (11) 99638-7594\n",
            "Digite a marca da bicicleta: Caloi\n",
            "Digite o numero de serie da bicicleta: 1985-4967\n",
            "Digito o serviso q ele quer:4\n",
            "Digite a descricao do serviso: Reparo de carbono no topo, atualizacao para uma pintura mais atual em cores: pintura com a bicicleta toda em holográfico com os escritos com a cor preta.\n",
            "O serviso para o nosso cliente Pedro Antonio de Souza, sera feito para a bike Caloi, de numero 1985-4967, ficara no todal de 2500 R$. \n"
          ]
        }
      ],
      "source": [
        "#Ordem de Serviço\n",
        "#Dados do cliente\n",
        "Cliente = input(\"Digite o nome do Cliente: \")\n",
        "Numero = int(input(\"Digite o numero do Cliente \"))\n",
        "Marca = input(\"Digite a marca da bicicleta: \")\n",
        "NumeroBike = int(input(\"Digite o numero de serie da bicicleta: \"))\n",
        "ReparoCarb = 500\n",
        "Retoque = 250\n",
        "PinturaSimp = 1000\n",
        "PinturaComplx = 2000\n",
        "Tipo = int(input(\"Digito o serviso q ele quer:\"))\n",
        "if Tipo == 0:\n",
        "  Soma = ReparoCarb + Retoque\n",
        "elif Tipo == 1:\n",
        "  Soma = PinturaSimp\n",
        "elif Tipo == 2:\n",
        "  Soma = PinturaComplx\n",
        "elif Tipo == 3:\n",
        "  Soma = ReparoCarb + PinturaSimp\n",
        "else:\n",
        "  Soma = ReparoCarb + PinturaComplx\n",
        "ServisoTotal = Soma\n",
        "comoera = input(\"Como a bicicleta é original: \")\n",
        "comoficara = input(\"Como sera a personalização: \")\n",
        "print(f\"O serviso para o nosso cliente {Cliente}, sera feito para a bike {Marca}, de numero {NumeroBike}, ficara no todal de {ServisoTotal} R$. \")"
      ]
    }
  ]
}