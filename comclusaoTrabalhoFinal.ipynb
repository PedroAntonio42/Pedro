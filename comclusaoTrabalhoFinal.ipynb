{
  "nbformat": 4,
  "nbformat_minor": 0,
  "metadata": {
    "colab": {
      "provenance": [],
      "authorship_tag": "ABX9TyNM9x7cz/Wd/ZPUWkrnOm9V",
      "include_colab_link": true
    },
    "kernelspec": {
      "name": "python3",
      "display_name": "Python 3"
    },
    "language_info": {
      "name": "python"
    }
  },
  "cells": [
    {
      "cell_type": "markdown",
      "metadata": {
        "id": "view-in-github",
        "colab_type": "text"
      },
      "source": [
        "<a href=\"https://colab.research.google.com/github/PedroAntonio42/Pedro/blob/main/comclusaoTrabalhoFinal.ipynb\" target=\"_parent\"><img src=\"https://colab.research.google.com/assets/colab-badge.svg\" alt=\"Open In Colab\"/></a>"
      ]
    },
    {
      "cell_type": "code",
      "execution_count": 2,
      "metadata": {
        "colab": {
          "base_uri": "https://localhost:8080/"
        },
        "id": "Jd-9hqS83MkU",
        "outputId": "053e8c65-1884-42b6-9b4c-521ccb874860"
      },
      "outputs": [
        {
          "output_type": "stream",
          "name": "stdout",
          "text": [
            "Digite o nome do Cliente: f\n",
            "Digite o numero do Cliente f\n",
            "Digite a marca da bicicleta: f\n",
            "Digite o numero de serie da bicicleta: f\n",
            "Digito o serviso q ele quer:4\n",
            "Digite a descricao do serviso: f\n",
            "O serviso para o nosso cliente f, sera feito para a bike f ficara no todal de 2500 R$. \n"
          ]
        }
      ],
      "source": [
        "#Dados do cliente\n",
        "Cliente = input(\"Digite o nome do Cliente: \")\n",
        "Numero = input(\"Digite o numero do Cliente \")\n",
        "Marca = input(\"Digite a marca da bicicleta: \")\n",
        "NumeroBike = input(\"Digite o numero de serie da bicicleta: \")\n",
        "ReparoCarb = 500\n",
        "Retoque = 250\n",
        "PinturaSimp = 1000\n",
        "PinturaComplx = 2000\n",
        "Tipo = int(input(\"Digito o serviso q ele quer:\"))\n",
        "if Tipo == 0:\n",
        "  Soma = ReparoCarb + Retoque\n",
        "elif Tipo == 1:\n",
        "  Soma = PinturaSimp\n",
        "elif Tipo == 2:\n",
        "  Soma = PinturaComplx\n",
        "elif Tipo == 3:\n",
        "  Soma = ReparoCarb + PinturaSimp\n",
        "else:\n",
        "  Soma = ReparoCarb + PinturaComplx\n",
        "ServisoTotal = Soma\n",
        "Descricoes = input(\"Digite a descricao do serviso: \")\n",
        "print(f\"O serviso para o nosso cliente {Cliente}, sera feito para a bike {Marca} ficara no todal de {ServisoTotal} R$. \")"
      ]
    }
  ]
}