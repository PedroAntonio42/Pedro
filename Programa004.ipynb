{
  "nbformat": 4,
  "nbformat_minor": 0,
  "metadata": {
    "colab": {
      "provenance": [],
      "authorship_tag": "ABX9TyPZRCRCShK9P11158g8upMg",
      "include_colab_link": true
    },
    "kernelspec": {
      "name": "python3",
      "display_name": "Python 3"
    },
    "language_info": {
      "name": "python"
    }
  },
  "cells": [
    {
      "cell_type": "markdown",
      "metadata": {
        "id": "view-in-github",
        "colab_type": "text"
      },
      "source": [
        "<a href=\"https://colab.research.google.com/github/PedroAntonio42/Pedro/blob/main/Programa004.ipynb\" target=\"_parent\"><img src=\"https://colab.research.google.com/assets/colab-badge.svg\" alt=\"Open In Colab\"/></a>"
      ]
    },
    {
      "cell_type": "code",
      "execution_count": 3,
      "metadata": {
        "colab": {
          "base_uri": "https://localhost:8080/"
        },
        "id": "vg5OL7vksTiA",
        "outputId": "78a8cc01-bd6f-4316-f5ba-fb3b1b73728d"
      },
      "outputs": [
        {
          "output_type": "stream",
          "name": "stdout",
          "text": [
            "Digite seu valor: 9\n",
            "Seu numero 9 é multiplo de 3\n"
          ]
        }
      ],
      "source": [
        "x = int(input(\"Digite seu valor: \"))\n",
        "if x % 3 == 0:\n",
        "  print(f\"Seu numero {x} é multiplo de 3\")\n",
        "else:\n",
        "  print(f\"Seu numero {x} é nao multiplo de 3\")"
      ]
    },
    {
      "cell_type": "code",
      "source": [
        "n1 = float(input(\"Digite seua nota: \"))\n",
        "n2 = float(input(\"Digite sua nota: \"))\n",
        "m = (n1*0.4+n2*0.6)\n",
        "if m>=5:\n",
        "  print(f\"vc foi aprovado e sua media foi {m}\")\n",
        "else:\n",
        "  print(f\"vc foi reprovado e sua media foi {m}\")"
      ],
      "metadata": {
        "colab": {
          "base_uri": "https://localhost:8080/"
        },
        "id": "RISOoY3Vtnq1",
        "outputId": "a8e92f38-7bbc-43c0-e28b-3c90daa9cfc7"
      },
      "execution_count": 5,
      "outputs": [
        {
          "output_type": "stream",
          "name": "stdout",
          "text": [
            "Digite seua nota: 5\n",
            "Digite sua nota: 5\n",
            "vc foi aprovado e sua media foi 5.0\n"
          ]
        }
      ]
    },
    {
      "cell_type": "code",
      "source": [
        "a = int(input(\"Digite seu numero: \"))\n",
        "b = int(input(\"Digite seu numero: \"))\n",
        "c = int(input(\"Digite seu numero: \"))\n",
        "if a<=b and a<=c:\n",
        "  MenorValor = a\n",
        "elif b<=a and b<=c:\n",
        "  MenorValor = b\n",
        "else:\n",
        "  MenorValor = c\n",
        "print(f\"Menor Valor è {MenorValor}\")"
      ],
      "metadata": {
        "colab": {
          "base_uri": "https://localhost:8080/"
        },
        "id": "AI9X8UT4ugyi",
        "outputId": "e34aeef1-3623-43fe-cb3f-4f17ae4dbba1"
      },
      "execution_count": 10,
      "outputs": [
        {
          "output_type": "stream",
          "name": "stdout",
          "text": [
            "Digite seu numero: 4\n",
            "Digite seu numero: 5\n",
            "Digite seu numero: 1\n",
            "Menor Valor è 1\n"
          ]
        }
      ]
    }
  ]
}